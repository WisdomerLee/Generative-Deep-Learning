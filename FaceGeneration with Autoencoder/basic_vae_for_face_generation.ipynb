{
  "nbformat": 4,
  "nbformat_minor": 0,
  "metadata": {
    "colab": {
      "provenance": []
    },
    "kernelspec": {
      "name": "python3",
      "display_name": "Python 3"
    },
    "language_info": {
      "name": "python"
    }
  },
  "cells": [
    {
      "cell_type": "markdown",
      "source": [
        "여기서 활용하는 데이터셋은 CelebA라는 데이터셋으로, 유명 인사들의 얼굴이 담긴 사진이고\n",
        "또한 여러 특성이 사진에 지정되어있음\n",
        "자세한 내용은 kaggle의 CelebFaces Attributes Dataset의 내용을 참고할 것"
      ],
      "metadata": {
        "id": "jjYAMoxw_q0f"
      }
    },
    {
      "cell_type": "code",
      "execution_count": null,
      "metadata": {
        "id": "kflPEAIe_qVQ"
      },
      "outputs": [],
      "source": [
        "!mkdir data_faces && wget https://s3-us-west-1.amazonaws.com/udacity-dlnfd/datasets/celeba.zip"
      ]
    },
    {
      "cell_type": "code",
      "source": [
        "import zipfile\n",
        "\n",
        "with zipfile.ZipFile('celeba.zip', 'r') as zip_ref:\n",
        "    zip_ref.extractall('data_faces/')"
      ],
      "metadata": {
        "id": "PLQottK7DHlF"
      },
      "execution_count": null,
      "outputs": []
    },
    {
      "cell_type": "code",
      "source": [
        "from PIL import Image\n",
        "import os\n",
        "import numpy as np\n",
        "import matplotlib.pyplot as plt\n",
        "import torch\n",
        "import torchvision\n",
        "import torch.nn as nn\n",
        "import torch.nn.functional as F\n",
        "from torchvision import transforms\n",
        "import torch.optim as optim\n",
        "from torchvision import datasets\n",
        "from torch.utils.data import DataLoader\n",
        "from torch.autograd import Variable"
      ],
      "metadata": {
        "id": "I2xul0vxDOFs"
      },
      "execution_count": null,
      "outputs": []
    },
    {
      "cell_type": "code",
      "source": [
        "def show(img, renorm=False, nrow=8, interpolation='bicubic'):\n",
        "  if renorm:\n",
        "    img = img*0.5 + 0.5\n",
        "  img_grid = torchvision.utils.make_grid(img, nrow=nrow).numpy()\n",
        "  plt.figure()\n",
        "  plt.imshow(np.transpose(img_grid, (1,2,0)), interpolation=interpolation)\n",
        "  plt.axis('off')\n",
        "  plt.show()"
      ],
      "metadata": {
        "id": "sbRLqp5WDpxc"
      },
      "execution_count": null,
      "outputs": []
    },
    {
      "cell_type": "code",
      "source": [
        "root = 'data_faces/img_align_celeba'\n",
        "img_list = os.listdir(root)\n",
        "print(len(img_list))"
      ],
      "metadata": {
        "id": "KwuaU2edEDXV"
      },
      "execution_count": null,
      "outputs": []
    },
    {
      "cell_type": "code",
      "source": [
        "class VAE(nn.Module):\n",
        "  def __init__(self, image_size=128, latent_dim=512):\n",
        "    super(VAE, self).__init__()\n",
        "\n",
        "    # Encoder\n",
        "    self.encoder = nn.Sequential(\n",
        "        nn.Conv2d(3, 32, kernel_size=4, stride=2, padding=1),\n",
        "        nn.ReLU(),\n",
        "        nn.Conv2d(32, 64, kernel_size=4, stride=2, padding=1),\n",
        "        nn.ReLU(),\n",
        "        nn.Conv2d(64, 128, kernel_size=4, stride=2, padding=1),\n",
        "        nn.ReLU(),\n",
        "        nn.Conv2d(128, 256, kernel_size=4, stride=2, padding=1),\n",
        "        nn.ReLU(),\n",
        "        nn.Flatten()\n",
        "    )\n",
        "    # 평균, 분산을 확인할 수 있는 파라미터 정의\n",
        "    self.fc_mu = nn.Linear(256*(image_size // 16) * (image_size // 16), latent_dim)\n",
        "    self.fc_logvar = nn.Linear(256*(image_size // 16) * (image_size // 16), latent_dim)\n",
        "\n",
        "    # Decoder\n",
        "    self.decoder_input = nn.Linear(latent_dim, 256 * (image_size // 16) * (image_size // 16))\n",
        "    self.decoder = nn.Sequential(\n",
        "        nn.ConvTranspose2d(256, 128, kernel_size=4, stride=2, padding=1),\n",
        "        nn.ReLU(),\n",
        "        nn.ConvTranspose2d(128, 64, kernel_size=4, stride=2, padding=1),\n",
        "        nn.ReLU(),\n",
        "        nn.ConvTranspose2d(64, 32, kernel_size=4, stride=2, padding=1),\n",
        "        nn.ReLU(),\n",
        "        nn.ConvTranspose2d(32, 3, kernel_size=4, stride=2, padding=1),\n",
        "        nn.Sigmoid()\n",
        "    )\n",
        "    self.image_size = image_size\n",
        "\n",
        "  def encoder(self, x):\n",
        "    x = self.encoder(x)\n",
        "    mu, logvar = self.fc_mu(x), self.fc_log_var(x)\n",
        "    return mu, logvar\n",
        "\n",
        "  def reparameterize(self, mu, logvar):\n",
        "    std = torch.exp(0.5*logvar)\n",
        "    eps = torch.randn_like(std)\n",
        "    return mu * eps * std\n",
        "\n",
        "  def decoder(self, z):\n",
        "    x = self.decoder_input(z)\n",
        "    x = x.view(-1, 256, (self.image_size // 16), (self.image_size // 16))\n",
        "    x = self.decoder(x)\n",
        "    return x\n",
        "\n",
        "  def forward(self, x):\n",
        "    mu, logvar = self.encoder(x)\n",
        "    z = self.reparameterize(mu, logvar)\n",
        "    reconstructed_x = self.decoder(z)\n",
        "    return reconstructed_x, mu, logvar\n"
      ],
      "metadata": {
        "id": "wDaY2wLcEKqN"
      },
      "execution_count": null,
      "outputs": []
    },
    {
      "cell_type": "code",
      "source": [
        "re_size = 128\n",
        "\n",
        "transform = transforms.Compose([\n",
        "    transforms.Resize(size=(re_size, re_size), interpolation=Image.BICUBIC),\n",
        "    transforms.ToTensor()\n",
        "])\n",
        "\n",
        "batch_size = 64\n",
        "celeba_data = datasets.ImageFolder('./data_faces', transform=transform)\n",
        "celeba_loader = DataLoader(celeba_data, batch_size=batch_size, shuffle=True)"
      ],
      "metadata": {
        "id": "Z4RSWoySGJgV"
      },
      "execution_count": null,
      "outputs": []
    },
    {
      "cell_type": "code",
      "source": [
        "batch, _ = next(iter(celeba_loader))\n",
        "show(batch[0:16], nrow=4)"
      ],
      "metadata": {
        "id": "4cPFjtalGmEt"
      },
      "execution_count": null,
      "outputs": []
    },
    {
      "cell_type": "code",
      "source": [
        "def vae_loss(recon_x, x, mu, logvar):\n",
        "  BCE = nn.BCELoss(reduction='sum')(recon_x, x)\n",
        "  KLD = -0.5 * torch.sum(1 + logvar - mu.pow(2) - logvar.exp())\n",
        "  return BCE + KLD\n",
        "\n"
      ],
      "metadata": {
        "id": "e54WXrGiGuUe"
      },
      "execution_count": null,
      "outputs": []
    },
    {
      "cell_type": "code",
      "source": [
        "device = torch.device('cuda' if torch.cuda.is_available() else 'cpu')\n"
      ],
      "metadata": {
        "id": "XRrU5E9VG5vq"
      },
      "execution_count": null,
      "outputs": []
    },
    {
      "cell_type": "code",
      "source": [
        "model = VAE().to(device)\n",
        "optimizer = optim.Adam(model.parameters(), lr=0.001)"
      ],
      "metadata": {
        "id": "7wxHug6DKUVH"
      },
      "execution_count": null,
      "outputs": []
    },
    {
      "cell_type": "code",
      "source": [
        "\n",
        "num_epochs = 50\n",
        "\n",
        "best_loss = np.inf\n",
        "model.train()\n",
        "for epoch in range(num_epochs):\n",
        "  total_loss = 0\n",
        "  cpt=0\n",
        "  for batch_idx, data in enumerate(celeba_loader):\n",
        "    img, _ = data\n",
        "    img = img.float().to(device)\n",
        "    recon_img, mu, logvar = model(img)\n",
        "    loss = vae_loss(recon_img, img, mu, logvar)\n",
        "    optimizer.zero_grad()\n",
        "    loss.backward()\n",
        "    optimizer.step()\n",
        "    total_loss += loss.item()\n",
        "    cpt += 1\n",
        "\n",
        "    if batch_idx % 1000 == 0:\n",
        "      print(f'Epoch [{epoch+1}/{num_epochs}], Step [{batch_idx+1}/{len(celeba_loader)}], Loss: {total_loss/cpt:.4f}')\n",
        "  print(f'Epoch [{epoch+1}/{num_epochs}], Total Loss: {total_loss/len(celeba_loader):.4f}')\n",
        "  # loss값이 이전의 loss보다 낮으면 > 해당 모델 파라미터를 저장할 것\n",
        "  if total_loss < best_loss:\n",
        "    best_loss = total_loss\n",
        "    torch.save(model.state_dict(), 'celeba_vae.pth')\n",
        ""
      ],
      "metadata": {
        "id": "HYhiNrJzKcYD"
      },
      "execution_count": null,
      "outputs": []
    },
    {
      "cell_type": "code",
      "source": [
        "!gdown --id liUkepsRdaADfCnczvx2-jkcT2bHLUyPd\n",
        "# 학습된 모델을 바로 받아서 확인해볼 수도.."
      ],
      "metadata": {
        "id": "83ORXla2MzUq"
      },
      "execution_count": null,
      "outputs": []
    },
    {
      "cell_type": "code",
      "source": [
        "model.load_state_dict(torch.load('celeba_vae.pth', map_location=device))\n",
        "model.eval()"
      ],
      "metadata": {
        "id": "44qxmUkPM-VC"
      },
      "execution_count": null,
      "outputs": []
    },
    {
      "cell_type": "code",
      "source": [
        "# 원본\n",
        "show(batch[0:16], nrow=4)"
      ],
      "metadata": {
        "id": "ub5xVX6NNLbE"
      },
      "execution_count": null,
      "outputs": []
    },
    {
      "cell_type": "code",
      "source": [
        "with torch.no_grad():\n",
        "  recon_img, _, _ = model(batch.to(device))\n"
      ],
      "metadata": {
        "id": "7lhp5mT0NVbe"
      },
      "execution_count": null,
      "outputs": []
    },
    {
      "cell_type": "code",
      "source": [
        "# 복원 사진\n",
        "show(recon_img[0:16].clip(0,1).detach().cpu(), nrow=4)"
      ],
      "metadata": {
        "id": "SZiUiMBLNa8j"
      },
      "execution_count": null,
      "outputs": []
    }
  ]
}