{
  "nbformat": 4,
  "nbformat_minor": 0,
  "metadata": {
    "colab": {
      "provenance": []
    },
    "kernelspec": {
      "name": "python3",
      "display_name": "Python 3"
    },
    "language_info": {
      "name": "python"
    }
  },
  "cells": [
    {
      "cell_type": "code",
      "execution_count": null,
      "metadata": {
        "id": "BkEFwFK4vrdO"
      },
      "outputs": [],
      "source": [
        "import cv2\n",
        "import numpy as np\n",
        "import matplotlib.pyplot as plt"
      ]
    },
    {
      "cell_type": "code",
      "source": [
        "# 그림 불러오기\n",
        "image1 = cv2.imread('Images/image1.jpg') # cv2를 이용하여 그림을 불러오기, cv는 opencv의 python 코드로, 그림과 관련된 내용을 조정하는 library\n",
        "image2 = cv2.imread('Images/image2.jpg')\n",
        "image3 = cv2.imread('Images/image3.jpg')"
      ],
      "metadata": {
        "id": "2XZWeos_wikB"
      },
      "execution_count": null,
      "outputs": []
    },
    {
      "cell_type": "code",
      "source": [
        "# 원본 그림 확인\n",
        "plt.figure(figsize=(10, 4))\n",
        "plt.subplot(131)\n",
        "plt.imshow(cv2.cvtColor(image1, cv2.COLOR_BGR2RGB)) # 이렇게 바꾸는 이유는 plt와 opencv가 그림을 다루는 색깔 채널의 순서가 다르기 때문.. BGR로 다루는 opencv의 그림을 rgb로 다루는 plt로 제대로 보기 위함 이렇게 바꾸지 않으면 색깔이 이상하게 변형된 채로 열리게 됨\n",
        "plt.title('Original Image1')\n",
        "plt.axis('off')\n",
        "\n",
        "plt.subplot(132)\n",
        "plt.imshow(cv2.cvtColor(image2, cv2.COLOR_BGR2RGB))\n",
        "plt.title('Original Image2')\n",
        "plt.axis('off')\n",
        "\n",
        "plt.subplot(133)\n",
        "plt.imshow(cv2.cvtColor(image3, cv2.COLOR_BGR2RGB))\n",
        "plt.title('Original Image3')\n",
        "plt.axis('off')\n",
        "plt.show()\n"
      ],
      "metadata": {
        "id": "3bdSrH1ewxe5"
      },
      "execution_count": null,
      "outputs": []
    },
    {
      "cell_type": "code",
      "source": [
        "# 이제 색깔로 된 그림을 흑백으로 변환하기 > 그 이유는 계산에 쓰이는 컴퓨터 리소스의 소모를 줄이기 위함\n",
        "gray_image1 = cv2.cvtColor(image1, cv2.COLOR_BGR2GRAY)\n",
        "gray_image2 = cv2.cvtColor(image2, cv2.COLOR_BGR2GRAY)\n",
        "gray_image3 = cv2.cvtColor(image3, cv2.COLOR_BGR2GRAY)\n",
        "\n",
        "# 흑백으로 변형된 그림 확인하기\n",
        "plt.figure(figsize=(10, 4))\n",
        "plt.subplot(131)\n",
        "plt.imshow(gray_image1, cmap='gray')\n",
        "plt.title('Grayscale Image1')\n",
        "plt.axis('off')\n",
        "plt.subplot(132)\n",
        "plt.imshow(gray_image2, cmap='gray')\n",
        "plt.title('Grayscale Image2')\n",
        "plt.axis('off')\n",
        "plt.subplot(133)\n",
        "plt.imshow(gray_image3, cmap='gray')\n",
        "plt.title('Grayscale Image3')\n",
        "plt.axis('off')\n",
        "plt.show()\n"
      ],
      "metadata": {
        "id": "jDZOAXz0xkoG"
      },
      "execution_count": null,
      "outputs": []
    },
    {
      "cell_type": "code",
      "source": [
        "# 그림의 크기를 모두 같은 크기로 변경 - neural network에 그림을 똑같이 집어넣어 처리하기 위함\n",
        "resized_image1 = cv2.resize(gray_image1, (256, 256))\n",
        "resized_image2 = cv2.resize(gray_image2, (256, 256))\n",
        "resized_image3 = cv2.resize(gray_image3, (256, 256))\n",
        "\n",
        "# 크기 변화된 그림 확인하기\n",
        "plt.figure(figsize=(10, 4))\n",
        "plt.subplot(131)\n",
        "plt.imshow(resized_image1, cmap='gray')\n",
        "plt.title('Resized Image1')\n",
        "plt.axis('off')\n",
        "\n",
        "plt.subplot(132)\n",
        "plt.imshow(resized_image2, cmap='gray')\n",
        "plt.title('Resized Image2')\n",
        "plt.axis('off')\n",
        "\n",
        "plt.subplot(133)\n",
        "plt.imshow(resized_image3, cmap='gray')\n",
        "plt.title('Resized Image3')\n",
        "plt.axis('off')\n",
        "plt.show()\n"
      ],
      "metadata": {
        "id": "rdpgHgWz0TVg"
      },
      "execution_count": null,
      "outputs": []
    },
    {
      "cell_type": "code",
      "source": [
        "# 그림 데이터 1차원으로 바꾸기\n",
        "flattened_image1 = resized_image1.flatten().reshape(1, -1)\n",
        "flattened_image2 = resized_image2.flatten().reshape(1, -1)\n",
        "flattened_image3 = resized_image3.flatten().reshape(1, -1)\n",
        "\n",
        "# 데이터 차원 확인하기\n",
        "print(flattened_image1.shape)\n",
        "print(flattened_image2.shape)\n",
        "print(flattened_image3.shape)"
      ],
      "metadata": {
        "id": "KwQbwN4O1y71"
      },
      "execution_count": null,
      "outputs": []
    },
    {
      "cell_type": "code",
      "source": [
        "# 초기에는 랜덤하게 숫자를 지정하기!\n",
        "random_weights = np.random.rand(256*256, 256)\n",
        "print('Weight 1: ', rnadom_weights.shape)"
      ],
      "metadata": {
        "id": "DN-NBcvt2HDg"
      },
      "execution_count": null,
      "outputs": []
    },
    {
      "cell_type": "code",
      "source": [
        "# 256차원 vector로 만들기\n",
        "weighted_image1 = np.dot(flattended_image1, rnadom_weights)\n",
        "weighted_image2 = np.dot(flattended_image2, rnadom_weights)\n",
        "weighted_image3 = np.dot(flattended_image3, rnadom_weights)"
      ],
      "metadata": {
        "id": "zdz1BwJM2WEC"
      },
      "execution_count": null,
      "outputs": []
    },
    {
      "cell_type": "code",
      "source": [
        "random_weights2 = np.random.rand(256, 2)\n",
        "print('Weight 2: ', random_weights2.shape)"
      ],
      "metadata": {
        "id": "eWgko1sG2hIm"
      },
      "execution_count": null,
      "outputs": []
    },
    {
      "cell_type": "code",
      "source": [
        "# 2차원 벡터로 만들기\n",
        "pts1 = np.dot(weighted_image1, random_weights2)\n",
        "pts2 = np.dot(weighted_image2, random_weights2)\n",
        "pts3 = np.dot(weighted_image3, random_weights2)\n"
      ],
      "metadata": {
        "id": "DDifPIW62rYt"
      },
      "execution_count": null,
      "outputs": []
    },
    {
      "cell_type": "code",
      "source": [
        "# plot 그리기 - latent 차원으로 변경된 부분 확인하기\n",
        "plt.scatter(pts1[0, 0], pts1[0, 1], label=\"mona lisa\")\n",
        "plt.scatter(pts2[0, 0], pts2[0, 1], label=\"starry night\")\n",
        "plt.scatter(pts3[0, 0], pts3[0, 1], label=\"girl with a pearl earring\")\n",
        "plt.title('scatter plot of 2d latent')\n",
        "plt.xlabel('Dimension 1')\n",
        "plt.ylabel('Dimension 2')\n",
        "plt.legend()\n",
        "plt.show()\n"
      ],
      "metadata": {
        "id": "iZX2lkpi5VQ0"
      },
      "execution_count": null,
      "outputs": []
    },
    {
      "cell_type": "code",
      "source": [],
      "metadata": {
        "id": "0NRBwtGw52BW"
      },
      "execution_count": null,
      "outputs": []
    }
  ]
}