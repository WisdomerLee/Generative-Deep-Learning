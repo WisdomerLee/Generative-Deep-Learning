{
  "nbformat": 4,
  "nbformat_minor": 0,
  "metadata": {
    "colab": {
      "provenance": []
    },
    "kernelspec": {
      "name": "python3",
      "display_name": "Python 3"
    },
    "language_info": {
      "name": "python"
    }
  },
  "cells": [
    {
      "cell_type": "markdown",
      "source": [
        "# StyleGAN2-ADA: Style Conversion\n",
        "\n",
        "참고\n",
        "github의 [stylegan2-ada-pytorch](https://github.com/NVlabs/stylegan2-ada-pytorch) 를 참고할 것\n",
        "\n"
      ],
      "metadata": {
        "id": "jEZaXaRWPacx"
      }
    },
    {
      "cell_type": "markdown",
      "source": [
        "## 1단계 : 이미 학습된 모델을 가져오고, 초기 설정하기"
      ],
      "metadata": {
        "id": "0vddGGLFSAgu"
      }
    },
    {
      "cell_type": "code",
      "execution_count": null,
      "metadata": {
        "id": "xJFaXWW2PTcO"
      },
      "outputs": [],
      "source": [
        "!pip install click requests tqdm pyspng ninja imageio-ffmpeg==0.4.3"
      ]
    },
    {
      "cell_type": "markdown",
      "source": [
        "## 라이브러리 갖고 오기"
      ],
      "metadata": {
        "id": "Py7d7x5BSjLP"
      }
    },
    {
      "cell_type": "code",
      "source": [
        "import torch\n",
        "import torch.nn.functional as F\n",
        "import torchvision\n",
        "import torchvision.transforms as transforms\n",
        "\n",
        "from PIL import Image\n",
        "\n",
        "import numpy as np\n",
        "\n",
        "import copy\n",
        "import pickle\n",
        "import os\n",
        "\n",
        "import matplotlib.pyplot as plt\n",
        "\n",
        "from tqdm.notebook import tqdm"
      ],
      "metadata": {
        "id": "g4Qoel3XSJ8n"
      },
      "execution_count": null,
      "outputs": []
    },
    {
      "cell_type": "markdown",
      "source": [
        "## stylegan2-ada를 git의 저장소에서 복사해오기"
      ],
      "metadata": {
        "id": "YvpK1LGgShEO"
      }
    },
    {
      "cell_type": "code",
      "source": [
        "!git clone https://github.com/NVlabs/stylegan2-ada-pytorch.git\n",
        "%cd stylegan2-ada-pytorch"
      ],
      "metadata": {
        "id": "MGsnMupzSrYk"
      },
      "execution_count": null,
      "outputs": []
    },
    {
      "cell_type": "code",
      "source": [
        "if not os.path.isdir(\"pretrained\"):\n",
        "  !mkdir pretrained\n",
        "  %cd pretrained\n",
        "  !wget https://nvlabs-fi-cdn.nvidia.com/stylegan2-ada-pytorch/pretrained/ffhq.pickle\n",
        "  %cd ../"
      ],
      "metadata": {
        "id": "zYRI0lO6S799"
      },
      "execution_count": null,
      "outputs": []
    },
    {
      "cell_type": "code",
      "source": [
        "with open('pretrained/ffhq.pkl', 'rb') as f:\n",
        "  G = pickle.load(f)['G_ema'].cuda()"
      ],
      "metadata": {
        "id": "o1cQMvCtTMro"
      },
      "execution_count": null,
      "outputs": []
    },
    {
      "cell_type": "markdown",
      "source": [
        "## 2단계 - 개 그림 샘플 만들기"
      ],
      "metadata": {
        "id": "AN8qvL8nTd0i"
      }
    },
    {
      "cell_type": "code",
      "source": [
        "z = torch.randn([1, G.z_dim]).cuda()\n",
        "c = None\n",
        "img = G(z, c)"
      ],
      "metadata": {
        "id": "iQgQj__MTif2"
      },
      "execution_count": null,
      "outputs": []
    },
    {
      "cell_type": "code",
      "source": [
        "img.size()"
      ],
      "metadata": {
        "id": "GhRPx91cVqGc"
      },
      "execution_count": null,
      "outputs": []
    },
    {
      "cell_type": "code",
      "source": [
        "torch.min(img)"
      ],
      "metadata": {
        "id": "tN_axINaVrpk"
      },
      "execution_count": null,
      "outputs": []
    },
    {
      "cell_type": "code",
      "source": [
        "img.squeeze(0).size()"
      ],
      "metadata": {
        "id": "N1PZ8FWSVx0t"
      },
      "execution_count": null,
      "outputs": []
    },
    {
      "cell_type": "code",
      "source": [
        "plt.imshow((img[0]*127.5+128).permute(1,2,0).clamp(0, 255).detach().cpu().to(torch.uint8))\n",
        "plt.axis('off')\n",
        "plt.show()"
      ],
      "metadata": {
        "id": "HBkKu8lfV0MK"
      },
      "execution_count": null,
      "outputs": []
    },
    {
      "cell_type": "markdown",
      "source": [
        "## 2 - submodule  g_mapping, g_synthesis\n",
        "G model을 submodel로 나누어 사용할 수 있음\n"
      ],
      "metadata": {
        "id": "WRKb_TbnLiXs"
      }
    },
    {
      "cell_type": "code",
      "source": [
        "g_mapping = G.mapping\n",
        "g_synthesis = G.synthesis"
      ],
      "metadata": {
        "id": "yaKd0u2dWN6S"
      },
      "execution_count": null,
      "outputs": []
    },
    {
      "cell_type": "code",
      "source": [
        "g_mapping"
      ],
      "metadata": {
        "id": "YHSH6Ts7LxX5"
      },
      "execution_count": null,
      "outputs": []
    },
    {
      "cell_type": "code",
      "source": [
        "g_synthesis"
      ],
      "metadata": {
        "id": "di4TwK8zLymo"
      },
      "execution_count": null,
      "outputs": []
    },
    {
      "cell_type": "markdown",
      "source": [
        "latent vector z를 random 가우시안 확률 분포에서 획득"
      ],
      "metadata": {
        "id": "OY-fvbX5NV98"
      }
    },
    {
      "cell_type": "code",
      "source": [
        "z = torch.randn(([1, G.z_dim])).cuda()\n",
        "z.size()"
      ],
      "metadata": {
        "id": "ZBBorzkqNOIJ"
      },
      "execution_count": null,
      "outputs": []
    },
    {
      "cell_type": "markdown",
      "source": [
        "z를 중간의 latent space w로 변환(disentangled space)"
      ],
      "metadata": {
        "id": "1JYn53cPNkIJ"
      }
    },
    {
      "cell_type": "code",
      "source": [
        "w = g_mapping(z, None)\n",
        "w.size()"
      ],
      "metadata": {
        "id": "i5pgpWDXNSuY"
      },
      "execution_count": null,
      "outputs": []
    },
    {
      "cell_type": "markdown",
      "source": [
        "w를 synthesis network로 보내서 그림을 만들게 함"
      ],
      "metadata": {
        "id": "hbGsh16uNtXG"
      }
    },
    {
      "cell_type": "code",
      "source": [
        "img = g_synthesis(w)\n",
        "img = img.cpu()"
      ],
      "metadata": {
        "id": "wJg4oi3tNx7D"
      },
      "execution_count": null,
      "outputs": []
    },
    {
      "cell_type": "code",
      "source": [
        "plt.imshow((img[0]*127.5 + 128).permute(1,2,0).clamp(0, 255).detach().cpu().to(torch.unit8))\n",
        "plt.axis('off')\n",
        "plt.show()"
      ],
      "metadata": {
        "id": "QIdBq1beN1tP"
      },
      "execution_count": null,
      "outputs": []
    },
    {
      "cell_type": "markdown",
      "source": [
        "## 3 - 그림 편집\n",
        "\n",
        "그림을 다른 특성을 추가하여 부드럽게 바꾸기\n",
        "\n",
        "2개의 random vector z와 중간 latent space w값 2개 얻기"
      ],
      "metadata": {
        "id": "wJPVEU7vQLuM"
      }
    },
    {
      "cell_type": "code",
      "source": [
        "z1 = torch.randn([1, G.z_dim]).cuda()\n",
        "z2 = torch.randn([1, G.z_dim]).cuda()\n",
        "\n",
        "w1 = g_mapping(z1, None)\n",
        "w2 = g_mapping(z2, None)"
      ],
      "metadata": {
        "id": "o4WAKJLhOFTa"
      },
      "execution_count": null,
      "outputs": []
    },
    {
      "cell_type": "markdown",
      "source": [
        "3- 2개의 그림 생성"
      ],
      "metadata": {
        "id": "S6HdfZcbQofd"
      }
    },
    {
      "cell_type": "code",
      "source": [
        "img1 = g_synthesis(w1)\n",
        "img2 = g_synthesis(w2)\n",
        "\n",
        "img1 = img1.squeeze().permute(1,2,0)\n",
        "img2 = img2.squeeze().permute(1,2,0)"
      ],
      "metadata": {
        "id": "ZYIsWRndQq7N"
      },
      "execution_count": null,
      "outputs": []
    },
    {
      "cell_type": "code",
      "source": [
        "imgs = torch.cat([img1, img2], axis=1).cpu()\n",
        "imgs.size()"
      ],
      "metadata": {
        "id": "YgX-jGhUQ-ix"
      },
      "execution_count": null,
      "outputs": []
    },
    {
      "cell_type": "code",
      "source": [
        "imgs = (imgs * 127.5 + 128).clamp(0, 255).to(torch.uint8)"
      ],
      "metadata": {
        "id": "mf6Vvls4RECX"
      },
      "execution_count": null,
      "outputs": []
    },
    {
      "cell_type": "code",
      "source": [
        "plt.imshow(imgs)\n",
        "plt.axis('off')\n",
        "plt.show()"
      ],
      "metadata": {
        "id": "M41ALHJuRL5v"
      },
      "execution_count": null,
      "outputs": []
    },
    {
      "cell_type": "code",
      "source": [
        "img_group = []\n",
        "lin = np.linspace(0, 1, 10)\n",
        "print(*lin)\n"
      ],
      "metadata": {
        "id": "6qTpSMsMTJPH"
      },
      "execution_count": null,
      "outputs": []
    },
    {
      "cell_type": "code",
      "source": [
        "with torch.no_grad():\n",
        "  for i in lin:\n",
        "    w = ((1-i) * w1) + ( i * w2) # w1에서 w2로 점차 변환\n",
        "    result = g_synthesis(w)\n",
        "    result = result.squeeze()\n",
        "    img_group.append(result)"
      ],
      "metadata": {
        "id": "Te-CX9qDTS7-"
      },
      "execution_count": null,
      "outputs": []
    },
    {
      "cell_type": "code",
      "source": [
        "img_group = torch.cat(img_group).cpu()\n",
        "img_group.size()"
      ],
      "metadata": {
        "id": "oOrFTzSpTppu"
      },
      "execution_count": null,
      "outputs": []
    },
    {
      "cell_type": "markdown",
      "source": [
        "점차 바뀌는 이미지를 하나로 모아서 한 번에 보기"
      ],
      "metadata": {
        "id": "n4j6eNfEVOCw"
      }
    },
    {
      "cell_type": "code",
      "source": [
        "grid_img = torchvision.utils.make_grid(img_group, nrow=5)\n",
        "grid_img.size()"
      ],
      "metadata": {
        "id": "8P3-WWANVHfc"
      },
      "execution_count": null,
      "outputs": []
    },
    {
      "cell_type": "code",
      "source": [
        "grid_img = (grid_img * 127.5 + 128).clamp(0, 255).to(torch.uint8)"
      ],
      "metadata": {
        "id": "hzmBiQenVRrY"
      },
      "execution_count": null,
      "outputs": []
    },
    {
      "cell_type": "code",
      "source": [
        "plt.figure(figsize=(16, 6))\n",
        "plt.imshow(grid_img.permute(1,2,0))\n",
        "plt.axis('off')\n",
        "plt.show()"
      ],
      "metadata": {
        "id": "rVpj1w3rVUUe"
      },
      "execution_count": null,
      "outputs": []
    },
    {
      "cell_type": "markdown",
      "source": [
        "## 5. Style Conversion\n",
        "\n",
        "그림 생성에서 보다 더 다양한 컨트롤 방법을 더하기 위해서 synthesis network는 그림의 꼴, 모습을 바꾸는데 다양한 형태를 제공함\n",
        "\n",
        "Coarse - (4x4 - 8x8) - 자세, 머리카락, 얼굴 윤곽선\n",
        "Middle - (16x16 - 32x32) - 보다 자세한 얼굴 형태, 머리카락, 눈 뜨고, 감은 정도\n",
        "Fine - (64x64 - 1024x1024) - 다양한 색깔들(눈, 머리카락, 피부), 그리고 세부적인 특징들"
      ],
      "metadata": {
        "id": "4FBG4O_BVe17"
      }
    },
    {
      "cell_type": "code",
      "source": [
        "plt.imshow(imgs)\n",
        "plt.axis('off')\n",
        "plt.show()"
      ],
      "metadata": {
        "id": "7jEpJ9oqWMGY"
      },
      "execution_count": null,
      "outputs": []
    },
    {
      "cell_type": "code",
      "source": [
        "w_coarse = torch.cat((w2[:,:2], w1[:,:2]), dim=1)\n",
        "img = g_synthesis(w_coarse)\n",
        "img = img.cpu()\n",
        "\n",
        "plt.imshow((img[0]*127.5 + 128).permute(1,2,0).clamp(0, 255).detach().cpu().to(torch.uint8))\n",
        "plt.axis('off')\n",
        "plt.show()"
      ],
      "metadata": {
        "id": "RF69tSSSWSEv"
      },
      "execution_count": null,
      "outputs": []
    },
    {
      "cell_type": "code",
      "source": [
        "w_middle = torch.cat((w1[:,:2], w2[:,2:4], w1[:,4:]), dim=1)\n",
        "img = g_synthesis(w_middle)\n",
        "img = img.cpu()\n",
        "\n",
        "plt.imshow((img[0]*127.5 + 128).permute(1,2,0).clamp(0, 255).detach().cpu().to(torch.uint8))\n",
        "plt.axis('off')\n",
        "plt.show()"
      ],
      "metadata": {
        "id": "wtEzuUiIWkw6"
      },
      "execution_count": null,
      "outputs": []
    },
    {
      "cell_type": "code",
      "source": [
        "w_fine = torch.cat((w2[:,:4], w1[:,4:]), dim=1)\n",
        "img = g_synthesis(w_fine)\n",
        "img = img.cpu()\n",
        "\n",
        "plt.imshow((img[0]*127.5 + 128).permute(1,2,0).clamp(0, 255).detach().cpu().to(torch.uint8))\n",
        "plt.axis('off')\n",
        "plt.show()"
      ],
      "metadata": {
        "id": "niEDVBELW-TZ"
      },
      "execution_count": null,
      "outputs": []
    }
  ]
}
